{
 "cells": [
  {
   "cell_type": "markdown",
   "id": "e1171d89-effb-405b-8f63-4c70d4249ab3",
   "metadata": {
    "nteract": {
     "transient": {
      "deleting": false
     }
    }
   },
   "source": [
    "# Lab 1: Python 101"
   ]
  },
  {
   "cell_type": "markdown",
   "id": "8db3a4bb-7537-4f03-b108-dc1a61ce5963",
   "metadata": {
    "nteract": {
     "transient": {
      "deleting": false
     }
    }
   },
   "source": [
    "## The print() Function\n",
    "\n",
    "**Purpose**: The ```print()``` function in Python is used to display output to the console. It can be used to print strings, numbers, or any other printable information.\n",
    "\n",
    "**Syntax**: The basic syntax of the ```print()``` function is ```print(object(s), sep=separator, end=end, file=file, flush=flush)```. For our current example, we are only concerned with the first argument, which is the object(s) to be printed.\n",
    "\n",
    "\n",
    "**Example**: In our code, ```print(\"Hello world!\")``` tells Python to output the string \"Hello world!\" to the console."
   ]
  },
  {
   "cell_type": "code",
   "execution_count": null,
   "id": "5933ca43-ce6e-4cb1-9fa1-b70104021475",
   "metadata": {},
   "outputs": [
    {
     "data": {
      "application/vnd.livy.statement-meta+json": {
       "execution_finish_time": "2024-03-21T19:31:39.7568435Z",
       "execution_start_time": "2024-03-21T19:31:36.7907844Z",
       "livy_statement_state": "available",
       "parent_msg_id": "1c135d5c-98cc-4c93-a6d6-753b686efec8",
       "queued_time": "2024-03-21T19:31:27.5647894Z",
       "session_id": "6849c2fe-ada0-4eab-9501-275b1539b946",
       "session_start_time": "2024-03-21T19:31:27.7328393Z",
       "spark_pool": null,
       "state": "finished",
       "statement_id": 3
      },
      "text/plain": [
       "StatementMeta(, 6849c2fe-ada0-4eab-9501-275b1539b946, 3, Finished, Available)"
      ]
     },
     "metadata": {},
     "output_type": "display_data"
    },
    {
     "name": "stdout",
     "output_type": "stream",
     "text": [
      "Hello world!\n"
     ]
    }
   ],
   "source": [
    "print(\"Hello world!\")  # this is a comment"
   ]
  },
  {
   "cell_type": "markdown",
   "id": "45d0ef0b-7741-4a57-99f0-09b933d52383",
   "metadata": {
    "nteract": {
     "transient": {
      "deleting": false
     }
    }
   },
   "source": [
    "## Strings\n",
    "\n",
    "In Python, strings are one of the most common data types you'll work with. They can represent anything from simple text to complex data outputs. Let's explore some basic operations and concepts related to strings through a practical example."
   ]
  },
  {
   "cell_type": "code",
   "execution_count": null,
   "id": "61a70f46-a6c3-446e-9121-330bd4a7a43d",
   "metadata": {
    "jupyter": {
     "outputs_hidden": false,
     "source_hidden": false
    },
    "nteract": {
     "transient": {
      "deleting": false
     }
    }
   },
   "outputs": [
    {
     "data": {
      "application/vnd.livy.statement-meta+json": {
       "execution_finish_time": "2024-03-21T19:31:40.4917733Z",
       "execution_start_time": "2024-03-21T19:31:40.1247381Z",
       "livy_statement_state": "available",
       "parent_msg_id": "dec75383-6b33-450f-90a8-0c2398e3f44b",
       "queued_time": "2024-03-21T19:31:27.5671356Z",
       "session_id": "6849c2fe-ada0-4eab-9501-275b1539b946",
       "session_start_time": null,
       "spark_pool": null,
       "state": "finished",
       "statement_id": 4
      },
      "text/plain": [
       "StatementMeta(, 6849c2fe-ada0-4eab-9501-275b1539b946, 4, Finished, Available)"
      ]
     },
     "metadata": {},
     "output_type": "display_data"
    },
    {
     "data": {
      "text/plain": [
       "'A multiline                  \\nstring with a another string: More stringsWelcome to FabCon\\n'"
      ]
     },
     "execution_count": null,
     "metadata": {},
     "output_type": "execute_result"
    }
   ],
   "source": [
    "my_string0 = \"Welcome to FabCon\"               # double quotes\n",
    "\n",
    "my_string1 = 'More strings' + my_string0       # single quotes and + for concatenation\n",
    "\n",
    "# for multiline string use triple-quotes \"\"\" \n",
    "# put a 'f' in front to get string interpolation\n",
    "my_string2 = f\"\"\"A multiline                  \n",
    "string with a another string: {my_string1}\n",
    "\"\"\"\n",
    "\n",
    "my_string2"
   ]
  },
  {
   "cell_type": "markdown",
   "id": "7582c6ff-d04c-437a-ac28-14dd3ef69c4e",
   "metadata": {
    "nteract": {
     "transient": {
      "deleting": false
     }
    }
   },
   "source": [
    "## Lists, Tuples and Dictionary\n",
    "\n",
    "Python offers several collection data types that are used to store collections of data. Among these, tuples, dictionaries, and lists are the most commonly used. Understanding how to work with these types is fundamental to programming in Python.\n",
    "\n",
    "### Lists\n",
    "- **Definition**: A list is a mutable collection which is ordered and changeable. Lists allow duplicate members.\n",
    "- **Creation**: Use square brackets [] to create a list.\n",
    "- **Accessing Elements**: Access list items by referring to the index number.\n",
    "\n",
    "### Tuples\n",
    "- **Definition**: A tuple is an immutable (unchangeable) collection of items of any data type.\n",
    "- **Creation**: Use parentheses () to create a tuple.\n",
    "- **Accessing Elements**: Access tuple items by referring to the index number, using square brackets [].\n",
    "\n",
    "### Dictionaries\n",
    "- **Definition**: A dictionary is a mutable collection that is used to store data values in key:value pairs.\n",
    "- **Creation**: Use curly brackets {} to create a dictionary.\n",
    "- **Accessing Elements**: Access the data value by referring to its key name, using square brackets [].\n"
   ]
  },
  {
   "cell_type": "code",
   "execution_count": null,
   "id": "4307031a-a9ae-46d3-b2f7-cc0b13d8a085",
   "metadata": {
    "jupyter": {
     "outputs_hidden": false,
     "source_hidden": false
    },
    "nteract": {
     "transient": {
      "deleting": false
     }
    }
   },
   "outputs": [
    {
     "data": {
      "application/vnd.livy.statement-meta+json": {
       "execution_finish_time": "2024-03-21T19:31:41.1849347Z",
       "execution_start_time": "2024-03-21T19:31:40.8298193Z",
       "livy_statement_state": "available",
       "parent_msg_id": "6a833219-5424-487b-8c03-56ed3cd135fb",
       "queued_time": "2024-03-21T19:31:27.5676733Z",
       "session_id": "6849c2fe-ada0-4eab-9501-275b1539b946",
       "session_start_time": null,
       "spark_pool": null,
       "state": "finished",
       "statement_id": 5
      },
      "text/plain": [
       "StatementMeta(, 6849c2fe-ada0-4eab-9501-275b1539b946, 5, Finished, Available)"
      ]
     },
     "metadata": {},
     "output_type": "display_data"
    },
    {
     "data": {
      "text/plain": [
       "['A', 2, 3]"
      ]
     },
     "execution_count": null,
     "metadata": {},
     "output_type": "execute_result"
    }
   ],
   "source": [
    "my_list = [1, 2, 3] # a list\n",
    "\n",
    "my_list[0] = 'A'    # access using []\n",
    "\n",
    "my_list"
   ]
  },
  {
   "cell_type": "code",
   "execution_count": null,
   "id": "1811abd5-ce52-460e-a78b-b528a93d028b",
   "metadata": {
    "jupyter": {
     "outputs_hidden": false,
     "source_hidden": false
    },
    "nteract": {
     "transient": {
      "deleting": false
     }
    }
   },
   "outputs": [
    {
     "data": {
      "application/vnd.livy.statement-meta+json": {
       "execution_finish_time": "2024-03-21T19:31:41.9455818Z",
       "execution_start_time": "2024-03-21T19:31:41.5353011Z",
       "livy_statement_state": "available",
       "parent_msg_id": "6a42c40f-d20e-44db-afac-89586cd5b102",
       "queued_time": "2024-03-21T19:31:27.5693269Z",
       "session_id": "6849c2fe-ada0-4eab-9501-275b1539b946",
       "session_start_time": null,
       "spark_pool": null,
       "state": "finished",
       "statement_id": 6
      },
      "text/plain": [
       "StatementMeta(, 6849c2fe-ada0-4eab-9501-275b1539b946, 6, Finished, Available)"
      ]
     },
     "metadata": {},
     "output_type": "display_data"
    },
    {
     "data": {
      "text/plain": [
       "(1, 2)"
      ]
     },
     "execution_count": null,
     "metadata": {},
     "output_type": "execute_result"
    }
   ],
   "source": [
    "my_tuple = (1, 2, 3, 4, 5) # a tuple (immutable)\n",
    "\n",
    "my_tuple[0:2]              # slicing!"
   ]
  },
  {
   "cell_type": "code",
   "execution_count": null,
   "id": "df33d652-ad65-4561-b57e-5fada7c7e2d0",
   "metadata": {
    "jupyter": {
     "outputs_hidden": false,
     "source_hidden": false
    },
    "nteract": {
     "transient": {
      "deleting": false
     }
    }
   },
   "outputs": [
    {
     "data": {
      "application/vnd.livy.statement-meta+json": {
       "execution_finish_time": "2024-03-21T19:31:42.6340592Z",
       "execution_start_time": "2024-03-21T19:31:42.2844311Z",
       "livy_statement_state": "available",
       "parent_msg_id": "3f7baffc-4f7e-40f5-baaa-355a375793a7",
       "queued_time": "2024-03-21T19:31:27.5702585Z",
       "session_id": "6849c2fe-ada0-4eab-9501-275b1539b946",
       "session_start_time": null,
       "spark_pool": null,
       "state": "finished",
       "statement_id": 7
      },
      "text/plain": [
       "StatementMeta(, 6849c2fe-ada0-4eab-9501-275b1539b946, 7, Finished, Available)"
      ]
     },
     "metadata": {},
     "output_type": "display_data"
    },
    {
     "data": {
      "text/plain": [
       "'value1'"
      ]
     },
     "execution_count": null,
     "metadata": {},
     "output_type": "execute_result"
    }
   ],
   "source": [
    "# a dictionary\n",
    "my_dict = {\n",
    "    \"key0\": \"value0\",\n",
    "    \"key1\": \"value1\" \n",
    "}\n",
    "\n",
    "my_dict[\"key1\"]"
   ]
  },
  {
   "cell_type": "code",
   "execution_count": null,
   "id": "914fb7ba-766b-4181-b00a-bda111049584",
   "metadata": {
    "jupyter": {
     "outputs_hidden": false,
     "source_hidden": false
    },
    "nteract": {
     "transient": {
      "deleting": false
     }
    }
   },
   "outputs": [
    {
     "data": {
      "application/vnd.livy.statement-meta+json": {
       "execution_finish_time": "2024-03-21T19:31:43.3226267Z",
       "execution_start_time": "2024-03-21T19:31:42.9562243Z",
       "livy_statement_state": "available",
       "parent_msg_id": "0e69201d-2163-4431-b351-ce0adfe3e38c",
       "queued_time": "2024-03-21T19:31:27.5720093Z",
       "session_id": "6849c2fe-ada0-4eab-9501-275b1539b946",
       "session_start_time": null,
       "spark_pool": null,
       "state": "finished",
       "statement_id": 8
      },
      "text/plain": [
       "StatementMeta(, 6849c2fe-ada0-4eab-9501-275b1539b946, 8, Finished, Available)"
      ]
     },
     "metadata": {},
     "output_type": "display_data"
    },
    {
     "data": {
      "text/plain": [
       "dict_keys(['key0', 'key1'])"
      ]
     },
     "execution_count": null,
     "metadata": {},
     "output_type": "execute_result"
    }
   ],
   "source": [
    "my_dict.keys()"
   ]
  },
  {
   "cell_type": "markdown",
   "id": "8bc8e82d-ce4f-47ef-951d-44b20dd076c8",
   "metadata": {
    "nteract": {
     "transient": {
      "deleting": false
     }
    }
   },
   "source": [
    "## Flow control\n",
    "\n",
    "Now, we'll explore two fundamental concepts in Python programming: ```for``` loops and ```if/else``` blocks. These structures are essential for controlling the flow of your programs, allowing for repeated actions and decision-making based on conditions."
   ]
  },
  {
   "cell_type": "code",
   "execution_count": null,
   "id": "e730282a-a48b-40d1-aa19-cca183b5838f",
   "metadata": {
    "jupyter": {
     "outputs_hidden": false,
     "source_hidden": false
    },
    "nteract": {
     "transient": {
      "deleting": false
     }
    }
   },
   "outputs": [
    {
     "data": {
      "application/vnd.livy.statement-meta+json": {
       "execution_finish_time": "2024-03-21T19:31:44.0256308Z",
       "execution_start_time": "2024-03-21T19:31:43.660163Z",
       "livy_statement_state": "available",
       "parent_msg_id": "b8c30a8f-5f3d-4a02-917d-5fbc32e5b4ea",
       "queued_time": "2024-03-21T19:31:27.5724857Z",
       "session_id": "6849c2fe-ada0-4eab-9501-275b1539b946",
       "session_start_time": null,
       "spark_pool": null,
       "state": "finished",
       "statement_id": 9
      },
      "text/plain": [
       "StatementMeta(, 6849c2fe-ada0-4eab-9501-275b1539b946, 9, Finished, Available)"
      ]
     },
     "metadata": {},
     "output_type": "display_data"
    },
    {
     "name": "stdout",
     "output_type": "stream",
     "text": [
      "My list has some values: ['A', 2, 3]\n"
     ]
    }
   ],
   "source": [
    "# Python cares about spaces/tabs, so blocks needs to be aligned\n",
    "if len(my_list) == 0:\n",
    "    print(\"My list is empty\")\n",
    "else:\n",
    "    print(f\"My list has some values: {my_list}\")"
   ]
  },
  {
   "cell_type": "code",
   "execution_count": null,
   "id": "2ab2c7ac-6993-4453-bea9-61b40da9a7c8",
   "metadata": {
    "jupyter": {
     "outputs_hidden": false,
     "source_hidden": false
    },
    "nteract": {
     "transient": {
      "deleting": false
     }
    }
   },
   "outputs": [
    {
     "data": {
      "application/vnd.livy.statement-meta+json": {
       "execution_finish_time": "2024-03-21T19:31:44.7404399Z",
       "execution_start_time": "2024-03-21T19:31:44.3535409Z",
       "livy_statement_state": "available",
       "parent_msg_id": "3803bd91-f6dc-4d64-8d13-0c14f3d78d9f",
       "queued_time": "2024-03-21T19:31:27.5738914Z",
       "session_id": "6849c2fe-ada0-4eab-9501-275b1539b946",
       "session_start_time": null,
       "spark_pool": null,
       "state": "finished",
       "statement_id": 10
      },
      "text/plain": [
       "StatementMeta(, 6849c2fe-ada0-4eab-9501-275b1539b946, 10, Finished, Available)"
      ]
     },
     "metadata": {},
     "output_type": "display_data"
    },
    {
     "name": "stdout",
     "output_type": "stream",
     "text": [
      "0\n",
      "1\n",
      "2\n"
     ]
    }
   ],
   "source": [
    "# a for loop\n",
    "for num in range(3):\n",
    "    print(num)"
   ]
  },
  {
   "cell_type": "code",
   "execution_count": null,
   "id": "4f52e093-d8ff-474f-95f3-3569717d7737",
   "metadata": {
    "jupyter": {
     "outputs_hidden": false,
     "source_hidden": false
    },
    "nteract": {
     "transient": {
      "deleting": false
     }
    }
   },
   "outputs": [
    {
     "data": {
      "application/vnd.livy.statement-meta+json": {
       "execution_finish_time": "2024-03-21T19:31:45.448526Z",
       "execution_start_time": "2024-03-21T19:31:45.0547291Z",
       "livy_statement_state": "available",
       "parent_msg_id": "54e1ee9d-a117-417f-92c8-580d75e237f9",
       "queued_time": "2024-03-21T19:31:27.5766933Z",
       "session_id": "6849c2fe-ada0-4eab-9501-275b1539b946",
       "session_start_time": null,
       "spark_pool": null,
       "state": "finished",
       "statement_id": 11
      },
      "text/plain": [
       "StatementMeta(, 6849c2fe-ada0-4eab-9501-275b1539b946, 11, Finished, Available)"
      ]
     },
     "metadata": {},
     "output_type": "display_data"
    },
    {
     "name": "stdout",
     "output_type": "stream",
     "text": [
      "Item A\n",
      "Item 2\n",
      "Item 3\n"
     ]
    }
   ],
   "source": [
    "# another for loop over our list\n",
    "for item in my_list:\n",
    "    print(f\"Item {item}\")"
   ]
  },
  {
   "cell_type": "markdown",
   "id": "87faeaa4-abe6-43eb-87cc-0448d402190b",
   "metadata": {
    "nteract": {
     "transient": {
      "deleting": false
     }
    }
   },
   "source": [
    "## Python comprehension"
   ]
  },
  {
   "cell_type": "code",
   "execution_count": null,
   "id": "2a5f3033-5cf0-4464-9e50-6e635768656c",
   "metadata": {
    "jupyter": {
     "outputs_hidden": false,
     "source_hidden": false
    },
    "nteract": {
     "transient": {
      "deleting": false
     }
    }
   },
   "outputs": [
    {
     "data": {
      "application/vnd.livy.statement-meta+json": {
       "execution_finish_time": "2024-03-21T19:31:46.1525518Z",
       "execution_start_time": "2024-03-21T19:31:45.7786726Z",
       "livy_statement_state": "available",
       "parent_msg_id": "7e056130-0efc-4146-abec-247c6e12d911",
       "queued_time": "2024-03-21T19:31:27.5796312Z",
       "session_id": "6849c2fe-ada0-4eab-9501-275b1539b946",
       "session_start_time": null,
       "spark_pool": null,
       "state": "finished",
       "statement_id": 12
      },
      "text/plain": [
       "StatementMeta(, 6849c2fe-ada0-4eab-9501-275b1539b946, 12, Finished, Available)"
      ]
     },
     "metadata": {},
     "output_type": "display_data"
    },
    {
     "data": {
      "text/plain": [
       "[0, 1, 2, 3, 4]"
      ]
     },
     "execution_count": null,
     "metadata": {},
     "output_type": "execute_result"
    }
   ],
   "source": [
    "# list comprehension\n",
    "\n",
    "x = [i for i in range(5)]\n",
    "x"
   ]
  },
  {
   "cell_type": "code",
   "execution_count": null,
   "id": "ac729eb0-91e6-436f-a081-573d35acbf32",
   "metadata": {
    "jupyter": {
     "outputs_hidden": false,
     "source_hidden": false
    },
    "nteract": {
     "transient": {
      "deleting": false
     }
    }
   },
   "outputs": [
    {
     "data": {
      "application/vnd.livy.statement-meta+json": {
       "execution_finish_time": "2024-03-21T19:31:46.856438Z",
       "execution_start_time": "2024-03-21T19:31:46.4770919Z",
       "livy_statement_state": "available",
       "parent_msg_id": "5dd42c7b-e44b-407b-b024-bdc3bf965c0e",
       "queued_time": "2024-03-21T19:31:27.5801824Z",
       "session_id": "6849c2fe-ada0-4eab-9501-275b1539b946",
       "session_start_time": null,
       "spark_pool": null,
       "state": "finished",
       "statement_id": 13
      },
      "text/plain": [
       "StatementMeta(, 6849c2fe-ada0-4eab-9501-275b1539b946, 13, Finished, Available)"
      ]
     },
     "metadata": {},
     "output_type": "display_data"
    },
    {
     "data": {
      "text/plain": [
       "['i: 0', 'i: 2', 'i: 4']"
      ]
     },
     "execution_count": null,
     "metadata": {},
     "output_type": "execute_result"
    }
   ],
   "source": [
    "x = [\n",
    "    f'i: {i}'         # the list element\n",
    "    for i in range(5) # one or more for statements\n",
    "    if i % 2 == 0     # one or more conditions\n",
    "]\n",
    "x"
   ]
  },
  {
   "cell_type": "code",
   "execution_count": null,
   "id": "24c956fa-4a6d-40d6-9b34-7d10965a8ca4",
   "metadata": {
    "jupyter": {
     "outputs_hidden": false,
     "source_hidden": false
    },
    "nteract": {
     "transient": {
      "deleting": false
     }
    }
   },
   "outputs": [
    {
     "data": {
      "application/vnd.livy.statement-meta+json": {
       "execution_finish_time": "2024-03-21T19:31:47.5425453Z",
       "execution_start_time": "2024-03-21T19:31:47.1845918Z",
       "livy_statement_state": "available",
       "parent_msg_id": "72303c6b-248d-4696-9ceb-b242a8dd0146",
       "queued_time": "2024-03-21T19:31:27.5813391Z",
       "session_id": "6849c2fe-ada0-4eab-9501-275b1539b946",
       "session_start_time": null,
       "spark_pool": null,
       "state": "finished",
       "statement_id": 14
      },
      "text/plain": [
       "StatementMeta(, 6849c2fe-ada0-4eab-9501-275b1539b946, 14, Finished, Available)"
      ]
     },
     "metadata": {},
     "output_type": "display_data"
    },
    {
     "data": {
      "text/plain": [
       "{0: 0, 1: 1, 2: 4, 3: 9, 4: 16}"
      ]
     },
     "execution_count": null,
     "metadata": {},
     "output_type": "execute_result"
    }
   ],
   "source": [
    "# dictionary comprehension\n",
    "y = {\n",
    "    x: x**2             # key: value\n",
    "    for x in range(5)   # the loop\n",
    "}\n",
    "\n",
    "y"
   ]
  },
  {
   "cell_type": "markdown",
   "id": "b1b42e3d-bdd1-4d09-bc36-d0dc2097f382",
   "metadata": {
    "nteract": {
     "transient": {
      "deleting": false
     }
    }
   },
   "source": [
    "## Imports\n",
    "\n",
    "One of the powerful features of Python is its vast standard library and the plethora of third-party modules available. To use the functions, classes, or variables defined in these modules, you first need to bring them into your scope through importing. This process is facilitated by ```import``` statements, which are a fundamental aspect of Python programming.\n",
    "\n",
    "An ```import``` statement in Python is used to make code defined in one module available in another. Modules are simply files containing Python code - they can define functions, classes, and variables. When you import a module, you're essentially telling Python to read another file and make its contents accessible to your current file.\n"
   ]
  },
  {
   "cell_type": "code",
   "execution_count": null,
   "id": "a94cc80d-0685-49ec-b62d-f86d0bb4e06b",
   "metadata": {
    "jupyter": {
     "outputs_hidden": false,
     "source_hidden": false
    },
    "nteract": {
     "transient": {
      "deleting": false
     }
    }
   },
   "outputs": [
    {
     "data": {
      "application/vnd.livy.statement-meta+json": {
       "execution_finish_time": "2024-03-21T19:31:48.9050002Z",
       "execution_start_time": "2024-03-21T19:31:47.8736314Z",
       "livy_statement_state": "available",
       "parent_msg_id": "b1dee886-4e41-4453-be23-f900a52a2c42",
       "queued_time": "2024-03-21T19:31:27.5818899Z",
       "session_id": "6849c2fe-ada0-4eab-9501-275b1539b946",
       "session_start_time": null,
       "spark_pool": null,
       "state": "finished",
       "statement_id": 15
      },
      "text/plain": [
       "StatementMeta(, 6849c2fe-ada0-4eab-9501-275b1539b946, 15, Finished, Available)"
      ]
     },
     "metadata": {},
     "output_type": "display_data"
    },
    {
     "data": {
      "text/html": [
       "<div>\n",
       "<style scoped>\n",
       "    .dataframe tbody tr th:only-of-type {\n",
       "        vertical-align: middle;\n",
       "    }\n",
       "\n",
       "    .dataframe tbody tr th {\n",
       "        vertical-align: top;\n",
       "    }\n",
       "\n",
       "    .dataframe thead th {\n",
       "        text-align: right;\n",
       "    }\n",
       "</style>\n",
       "<table border=\"1\" class=\"dataframe\">\n",
       "  <thead>\n",
       "    <tr style=\"text-align: right;\">\n",
       "      <th></th>\n",
       "      <th>NumCol</th>\n",
       "      <th>Names</th>\n",
       "    </tr>\n",
       "  </thead>\n",
       "  <tbody>\n",
       "    <tr>\n",
       "      <th>0</th>\n",
       "      <td>1</td>\n",
       "      <td>Tom</td>\n",
       "    </tr>\n",
       "    <tr>\n",
       "      <th>1</th>\n",
       "      <td>2</td>\n",
       "      <td>Liz</td>\n",
       "    </tr>\n",
       "    <tr>\n",
       "      <th>2</th>\n",
       "      <td>3</td>\n",
       "      <td>Bob</td>\n",
       "    </tr>\n",
       "  </tbody>\n",
       "</table>\n",
       "</div>"
      ],
      "text/plain": [
       "   NumCol Names\n",
       "0       1   Tom\n",
       "1       2   Liz\n",
       "2       3   Bob"
      ]
     },
     "execution_count": null,
     "metadata": {},
     "output_type": "execute_result"
    }
   ],
   "source": [
    "# Fabric comes with common Python packages pre-installed\n",
    "import pandas as pd\n",
    "\n",
    "# Create a new data frame from a dictionary\n",
    "df = pd.DataFrame({\n",
    "    \"NumCol\": [1, 2, 3],\n",
    "    \"Names\": [\"Tom\", \"Liz\", \"Bob\"]\n",
    "})\n",
    "\n",
    "df"
   ]
  },
  {
   "cell_type": "code",
   "execution_count": null,
   "id": "5fab3828-b025-4907-b4e6-407b43702dac",
   "metadata": {
    "jupyter": {
     "outputs_hidden": false,
     "source_hidden": false
    },
    "nteract": {
     "transient": {
      "deleting": false
     }
    }
   },
   "outputs": [
    {
     "data": {
      "application/vnd.livy.statement-meta+json": {
       "execution_finish_time": "2024-03-21T19:31:49.5951889Z",
       "execution_start_time": "2024-03-21T19:31:49.2355382Z",
       "livy_statement_state": "available",
       "parent_msg_id": "2a471e22-a597-4ac7-a5cc-336d62e8ed0b",
       "queued_time": "2024-03-21T19:31:27.5831173Z",
       "session_id": "6849c2fe-ada0-4eab-9501-275b1539b946",
       "session_start_time": null,
       "spark_pool": null,
       "state": "finished",
       "statement_id": 16
      },
      "text/plain": [
       "StatementMeta(, 6849c2fe-ada0-4eab-9501-275b1539b946, 16, Finished, Available)"
      ]
     },
     "metadata": {},
     "output_type": "display_data"
    },
    {
     "data": {
      "text/plain": [
       "0    1\n",
       "1    2\n",
       "2    3\n",
       "Name: NumCol, dtype: int64"
      ]
     },
     "execution_count": null,
     "metadata": {},
     "output_type": "execute_result"
    }
   ],
   "source": [
    "# access one one column\n",
    "df[\"NumCol\"]"
   ]
  },
  {
   "cell_type": "markdown",
   "id": "e477ac8b-af60-404f-9c2d-e5dccb951bea",
   "metadata": {
    "nteract": {
     "transient": {
      "deleting": false
     }
    }
   },
   "source": [
    "## Exceptions\n",
    "\n",
    "Let's delve into an example that demonstrates how to handle a KeyError exception, commonly encountered when working with dictionaries or pandas DataFrames."
   ]
  },
  {
   "cell_type": "code",
   "execution_count": null,
   "id": "6fef7136-c4b3-45d3-bb1b-4a7f405902fd",
   "metadata": {
    "jupyter": {
     "outputs_hidden": false,
     "source_hidden": false
    },
    "nteract": {
     "transient": {
      "deleting": false
     }
    }
   },
   "outputs": [
    {
     "data": {
      "application/vnd.livy.statement-meta+json": {
       "execution_finish_time": "2024-03-21T19:31:50.2878475Z",
       "execution_start_time": "2024-03-21T19:31:49.9215748Z",
       "livy_statement_state": "available",
       "parent_msg_id": "2f0d815e-6dd4-41c8-9d02-a9e7f246ba8e",
       "queued_time": "2024-03-21T19:31:27.5837144Z",
       "session_id": "6849c2fe-ada0-4eab-9501-275b1539b946",
       "session_start_time": null,
       "spark_pool": null,
       "state": "finished",
       "statement_id": 17
      },
      "text/plain": [
       "StatementMeta(, 6849c2fe-ada0-4eab-9501-275b1539b946, 17, Finished, Available)"
      ]
     },
     "metadata": {},
     "output_type": "display_data"
    },
    {
     "name": "stdout",
     "output_type": "stream",
     "text": [
      "Exception raised: 'Unknown Column'\n"
     ]
    }
   ],
   "source": [
    "try:\n",
    "    # again careful w/ spaces & tabs\n",
    "\n",
    "    # try to access unknown column\n",
    "    x = df['Unknown Column']\n",
    "\n",
    "    # we'll never get here!\n",
    "except KeyError as e:\n",
    "    # catching the exception\n",
    "    print(f\"Exception raised: {e}\")\n"
   ]
  }
 ],
 "metadata": {
  "kernel_info": {
   "name": "synapse_pyspark"
  },
  "kernelspec": {
   "display_name": "Synapse PySpark",
   "language": "Python",
   "name": "synapse_pyspark"
  },
  "language_info": {
   "name": "python"
  },
  "nteract": {
   "version": "nteract-front-end@1.0.0"
  },
  "spark_compute": {
   "compute_id": "/trident/default"
  }
 },
 "nbformat": 4,
 "nbformat_minor": 5
}
