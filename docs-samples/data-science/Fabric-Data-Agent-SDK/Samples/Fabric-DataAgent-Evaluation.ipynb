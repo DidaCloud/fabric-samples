{
 "cells": [
  {
   "cell_type": "markdown",
   "id": "b647fc18-77a4-4c04-b616-5f1c09d4bb69",
   "metadata": {
    "microsoft": {
     "language": "python",
     "language_group": "jupyter_python"
    },
    "nteract": {
     "transient": {
      "deleting": false
     }
    }
   },
   "source": [
    "##### **Evaluation Setup**:\n",
    "* Pip Install Fabric Data Agent SDK\n",
    "* Load the **DataFrame** with question and expected_answers list.\n",
    "  * You can update in-cell DataFrame.\n",
    "  * Or upload the CSV file in \"question,expected_answer\" format to lakehouse\n",
    "    * Copy the file path and load the data to DataFrame using pandas.read_csv(\"<lakehouse_filepath>\")\n",
    "* Invoke the evaluate_data_agent API with data_frame, **data_agent_name**, workspace_name (Optional), table_name (Optional).\n",
    "  * data_agent_name : Name of the Data Agent\n",
    "  * workspace_name (Optional) : Workspace Name if Data Agent is in different workspace. Default value is None.\n",
    "  * table_name (Optional) : Evaluation output table name to store the evaluation result. Default table name is 'evaluation_output'.\n",
    "    * After evaluation there will be two tables one with provided <table_name> for evaluation output and other with <table_name>_steps for detailed steps.\n",
    "  * data_agent_stage (Optional) : Data Agent stage i.e., sandbox or production. Default value is production.\n"
   ]
  },
  {
   "cell_type": "markdown",
   "id": "c4f7700a-a21e-447f-ae95-71a77fe957c6",
   "metadata": {
    "microsoft": {
     "language": "python",
     "language_group": "jupyter_python"
    },
    "nteract": {
     "transient": {
      "deleting": false
     }
    }
   },
   "source": [
    "#### Install Fabric Data Agent SDK"
   ]
  },
  {
   "cell_type": "code",
   "execution_count": 1,
   "id": "7d7ad166-a410-44ef-abf5-d6707cfa10b6",
   "metadata": {
    "microsoft": {
     "language": "python",
     "language_group": "jupyter_python"
    }
   },
   "outputs": [
    {
     "data": {
      "application/vnd.jupyter.statement-meta+json": {
       "execution_finish_time": "2025-04-22T16:58:20.7022031Z",
       "execution_start_time": "2025-04-22T16:58:11.9974894Z",
       "normalized_state": "finished",
       "parent_msg_id": "3bc929fb-e2a6-4558-b687-3b6e7ae96f8a",
       "queued_time": "2025-04-22T16:58:09.5733819Z",
       "session_id": "f80376a6-821e-4aa7-baba-bee0668c47ec",
       "session_start_time": "2025-04-22T16:58:09.5897753Z"
      }
     },
     "metadata": {},
     "output_type": "display_data"
    },
    {
     "name": "stdout",
     "output_type": "stream",
     "text": [
      "Collecting fabric-data-agent-sdk\n",
      "  Downloading fabric_data_agent_sdk-0.1.0a0-py3-none-any.whl.metadata (3.4 kB)\n",
      "Requirement already satisfied: semantic-link-sempy>=0.8.0 in /home/trusted-service-user/jupyter-env/python3.11/lib/python3.11/site-packages (from fabric-data-agent-sdk) (0.9.3)\n",
      "Collecting openai>=1.57.0 (from fabric-data-agent-sdk)\n",
      "  Downloading openai-1.75.0-py3-none-any.whl.metadata (25 kB)\n",
      "Collecting httpx==0.27.2 (from fabric-data-agent-sdk)\n",
      "  Downloading httpx-0.27.2-py3-none-any.whl.metadata (7.1 kB)\n",
      "Requirement already satisfied: anyio in /home/trusted-service-user/jupyter-env/python3.11/lib/python3.11/site-packages (from httpx==0.27.2->fabric-data-agent-sdk) (4.8.0)\n",
      "Requirement already satisfied: certifi in /home/trusted-service-user/jupyter-env/python3.11/lib/python3.11/site-packages (from httpx==0.27.2->fabric-data-agent-sdk) (2024.7.4)\n",
      "Collecting httpcore==1.* (from httpx==0.27.2->fabric-data-agent-sdk)\n",
      "  Downloading httpcore-1.0.8-py3-none-any.whl.metadata (21 kB)\n",
      "Requirement already satisfied: idna in /home/trusted-service-user/jupyter-env/python3.11/lib/python3.11/site-packages (from httpx==0.27.2->fabric-data-agent-sdk) (3.10)\n",
      "Requirement already satisfied: sniffio in /home/trusted-service-user/jupyter-env/python3.11/lib/python3.11/site-packages (from httpx==0.27.2->fabric-data-agent-sdk) (1.3.1)\n",
      "Collecting h11<0.15,>=0.13 (from httpcore==1.*->httpx==0.27.2->fabric-data-agent-sdk)\n",
      "  Downloading h11-0.14.0-py3-none-any.whl.metadata (8.2 kB)\n",
      "Requirement already satisfied: distro<2,>=1.7.0 in /home/trusted-service-user/jupyter-env/python3.11/lib/python3.11/site-packages (from openai>=1.57.0->fabric-data-agent-sdk) (1.9.0)\n",
      "Collecting jiter<1,>=0.4.0 (from openai>=1.57.0->fabric-data-agent-sdk)\n",
      "  Downloading jiter-0.9.0-cp311-cp311-manylinux_2_17_x86_64.manylinux2014_x86_64.whl.metadata (5.2 kB)\n",
      "Collecting pydantic<3,>=1.9.0 (from openai>=1.57.0->fabric-data-agent-sdk)\n",
      "  Downloading pydantic-2.11.3-py3-none-any.whl.metadata (65 kB)\n",
      "\u001b[2K     \u001b[90m━━━━━━━━━━━━━━━━━━━━━━━━━━━━━━━━━━━━━━━━\u001b[0m \u001b[32m65.2/65.2 kB\u001b[0m \u001b[31m3.1 MB/s\u001b[0m eta \u001b[36m0:00:00\u001b[0m\n",
      "\u001b[?25hRequirement already satisfied: tqdm>4 in /home/trusted-service-user/jupyter-env/python3.11/lib/python3.11/site-packages (from openai>=1.57.0->fabric-data-agent-sdk) (4.66.4)\n",
      "Requirement already satisfied: typing-extensions<5,>=4.11 in /home/trusted-service-user/jupyter-env/python3.11/lib/python3.11/site-packages (from openai>=1.57.0->fabric-data-agent-sdk) (4.12.2)\n",
      "Requirement already satisfied: clr-loader>=0.2.5 in /home/trusted-service-user/jupyter-env/python3.11/lib/python3.11/site-packages (from semantic-link-sempy>=0.8.0->fabric-data-agent-sdk) (0.2.7.post0)\n",
      "Requirement already satisfied: graphviz>=0.20.1 in /home/trusted-service-user/jupyter-env/python3.11/lib/python3.11/site-packages (from semantic-link-sempy>=0.8.0->fabric-data-agent-sdk) (0.20.3)\n",
      "Requirement already satisfied: pyarrow>=12.0.1 in /home/trusted-service-user/jupyter-env/python3.11/lib/python3.11/site-packages (from semantic-link-sempy>=0.8.0->fabric-data-agent-sdk) (17.0.0)\n",
      "Requirement already satisfied: pythonnet>=3.0.1 in /home/trusted-service-user/jupyter-env/python3.11/lib/python3.11/site-packages (from semantic-link-sempy>=0.8.0->fabric-data-agent-sdk) (3.0.3)\n",
      "Requirement already satisfied: scikit-learn>=1.2.2 in /home/trusted-service-user/jupyter-env/python3.11/lib/python3.11/site-packages (from semantic-link-sempy>=0.8.0->fabric-data-agent-sdk) (1.5.0)\n",
      "Requirement already satisfied: setuptools>=68.2.2 in /home/trusted-service-user/jupyter-env/python3.11/lib/python3.11/site-packages (from semantic-link-sempy>=0.8.0->fabric-data-agent-sdk) (75.8.2)\n",
      "Requirement already satisfied: rich>=13.3.5 in /home/trusted-service-user/jupyter-env/python3.11/lib/python3.11/site-packages (from semantic-link-sempy>=0.8.0->fabric-data-agent-sdk) (13.9.4)\n",
      "Requirement already satisfied: cffi>=1.17 in /home/trusted-service-user/jupyter-env/python3.11/lib/python3.11/site-packages (from clr-loader>=0.2.5->semantic-link-sempy>=0.8.0->fabric-data-agent-sdk) (1.17.1)\n",
      "Requirement already satisfied: numpy>=1.16.6 in /home/trusted-service-user/jupyter-env/python3.11/lib/python3.11/site-packages (from pyarrow>=12.0.1->semantic-link-sempy>=0.8.0->fabric-data-agent-sdk) (1.26.4)\n",
      "Collecting annotated-types>=0.6.0 (from pydantic<3,>=1.9.0->openai>=1.57.0->fabric-data-agent-sdk)\n",
      "  Downloading annotated_types-0.7.0-py3-none-any.whl.metadata (15 kB)\n",
      "Collecting pydantic-core==2.33.1 (from pydantic<3,>=1.9.0->openai>=1.57.0->fabric-data-agent-sdk)\n",
      "  Downloading pydantic_core-2.33.1-cp311-cp311-manylinux_2_17_x86_64.manylinux2014_x86_64.whl.metadata (6.8 kB)\n",
      "Collecting typing-inspection>=0.4.0 (from pydantic<3,>=1.9.0->openai>=1.57.0->fabric-data-agent-sdk)\n",
      "  Downloading typing_inspection-0.4.0-py3-none-any.whl.metadata (2.6 kB)\n",
      "Requirement already satisfied: markdown-it-py>=2.2.0 in /home/trusted-service-user/jupyter-env/python3.11/lib/python3.11/site-packages (from rich>=13.3.5->semantic-link-sempy>=0.8.0->fabric-data-agent-sdk) (3.0.0)\n",
      "Requirement already satisfied: pygments<3.0.0,>=2.13.0 in /home/trusted-service-user/jupyter-env/python3.11/lib/python3.11/site-packages (from rich>=13.3.5->semantic-link-sempy>=0.8.0->fabric-data-agent-sdk) (2.19.1)\n",
      "Requirement already satisfied: scipy>=1.6.0 in /home/trusted-service-user/jupyter-env/python3.11/lib/python3.11/site-packages (from scikit-learn>=1.2.2->semantic-link-sempy>=0.8.0->fabric-data-agent-sdk) (1.15.2)\n",
      "Requirement already satisfied: joblib>=1.2.0 in /home/trusted-service-user/jupyter-env/python3.11/lib/python3.11/site-packages (from scikit-learn>=1.2.2->semantic-link-sempy>=0.8.0->fabric-data-agent-sdk) (1.4.2)\n",
      "Requirement already satisfied: threadpoolctl>=3.1.0 in /home/trusted-service-user/jupyter-env/python3.11/lib/python3.11/site-packages (from scikit-learn>=1.2.2->semantic-link-sempy>=0.8.0->fabric-data-agent-sdk) (3.5.0)\n",
      "Requirement already satisfied: pycparser in /home/trusted-service-user/jupyter-env/python3.11/lib/python3.11/site-packages (from cffi>=1.17->clr-loader>=0.2.5->semantic-link-sempy>=0.8.0->fabric-data-agent-sdk) (2.22)\n",
      "Requirement already satisfied: mdurl~=0.1 in /home/trusted-service-user/jupyter-env/python3.11/lib/python3.11/site-packages (from markdown-it-py>=2.2.0->rich>=13.3.5->semantic-link-sempy>=0.8.0->fabric-data-agent-sdk) (0.1.2)\n",
      "Downloading fabric_data_agent_sdk-0.1.0a0-py3-none-any.whl (26 kB)\n",
      "Downloading httpx-0.27.2-py3-none-any.whl (76 kB)\n",
      "\u001b[2K   \u001b[90m━━━━━━━━━━━━━━━━━━━━━━━━━━━━━━━━━━━━━━━━\u001b[0m \u001b[32m76.4/76.4 kB\u001b[0m \u001b[31m3.9 MB/s\u001b[0m eta \u001b[36m0:00:00\u001b[0m\n",
      "\u001b[?25hDownloading httpcore-1.0.8-py3-none-any.whl (78 kB)\n",
      "\u001b[2K   \u001b[90m━━━━━━━━━━━━━━━━━━━━━━━━━━━━━━━━━━━━━━━━\u001b[0m \u001b[32m78.7/78.7 kB\u001b[0m \u001b[31m3.4 MB/s\u001b[0m eta \u001b[36m0:00:00\u001b[0m\n",
      "\u001b[?25hDownloading openai-1.75.0-py3-none-any.whl (646 kB)\n",
      "\u001b[2K   \u001b[90m━━━━━━━━━━━━━━━━━━━━━━━━━━━━━━━━━━━━━━━━\u001b[0m \u001b[32m647.0/647.0 kB\u001b[0m \u001b[31m18.3 MB/s\u001b[0m eta \u001b[36m0:00:00\u001b[0m00:01\u001b[0m\n",
      "\u001b[?25hDownloading jiter-0.9.0-cp311-cp311-manylinux_2_17_x86_64.manylinux2014_x86_64.whl (351 kB)\n",
      "\u001b[2K   \u001b[90m━━━━━━━━━━━━━━━━━━━━━━━━━━━━━━━━━━━━━━━━\u001b[0m \u001b[32m351.8/351.8 kB\u001b[0m \u001b[31m16.7 MB/s\u001b[0m eta \u001b[36m0:00:00\u001b[0m\n",
      "\u001b[?25hDownloading pydantic-2.11.3-py3-none-any.whl (443 kB)\n",
      "\u001b[2K   \u001b[90m━━━━━━━━━━━━━━━━━━━━━━━━━━━━━━━━━━━━━━━━\u001b[0m \u001b[32m443.6/443.6 kB\u001b[0m \u001b[31m19.5 MB/s\u001b[0m eta \u001b[36m0:00:00\u001b[0m\n",
      "\u001b[?25hDownloading pydantic_core-2.33.1-cp311-cp311-manylinux_2_17_x86_64.manylinux2014_x86_64.whl (2.0 MB)\n",
      "\u001b[2K   \u001b[90m━━━━━━━━━━━━━━━━━━━━━━━━━━━━━━━━━━━━━━━━\u001b[0m \u001b[32m2.0/2.0 MB\u001b[0m \u001b[31m51.7 MB/s\u001b[0m eta \u001b[36m0:00:00\u001b[0m:00:01\u001b[0m\n",
      "\u001b[?25hDownloading annotated_types-0.7.0-py3-none-any.whl (13 kB)\n",
      "Downloading h11-0.14.0-py3-none-any.whl (58 kB)\n",
      "\u001b[2K   \u001b[90m━━━━━━━━━━━━━━━━━━━━━━━━━━━━━━━━━━━━━━━━\u001b[0m \u001b[32m58.3/58.3 kB\u001b[0m \u001b[31m2.8 MB/s\u001b[0m eta \u001b[36m0:00:00\u001b[0m\n",
      "\u001b[?25hDownloading typing_inspection-0.4.0-py3-none-any.whl (14 kB)\n",
      "Installing collected packages: typing-inspection, pydantic-core, jiter, h11, annotated-types, pydantic, httpcore, httpx, openai, fabric-data-agent-sdk\n",
      "Successfully installed annotated-types-0.7.0 fabric-data-agent-sdk-0.1.0a0 h11-0.14.0 httpcore-1.0.8 httpx-0.27.2 jiter-0.9.0 openai-1.75.0 pydantic-2.11.3 pydantic-core-2.33.1 typing-inspection-0.4.0\n",
      "Note: you may need to restart the kernel to use updated packages.\n"
     ]
    }
   ],
   "source": [
    "%pip install -U fabric-data-agent-sdk"
   ]
  },
  {
   "cell_type": "markdown",
   "id": "b5dc9434-4ffe-4c0d-a8d0-208f21d043e2",
   "metadata": {
    "microsoft": {
     "language": "python",
     "language_group": "jupyter_python"
    },
    "nteract": {
     "transient": {
      "deleting": false
     }
    }
   },
   "source": [
    "##### Load the Dataframe using in cell initialization or input csv file"
   ]
  },
  {
   "cell_type": "code",
   "execution_count": 2,
   "id": "fc0d0eb9-22c4-435d-a5f7-1fe9d0ba9513",
   "metadata": {
    "microsoft": {
     "language": "python",
     "language_group": "jupyter_python"
    }
   },
   "outputs": [
    {
     "data": {
      "application/vnd.jupyter.statement-meta+json": {
       "execution_finish_time": "2025-04-22T16:58:22.4158914Z",
       "execution_start_time": "2025-04-22T16:58:20.7035296Z",
       "normalized_state": "finished",
       "parent_msg_id": "26df8bbe-d785-4616-81b9-7060efe8291b",
       "queued_time": "2025-04-22T16:58:13.6330715Z",
       "session_id": "f80376a6-821e-4aa7-baba-bee0668c47ec",
       "session_start_time": null
      }
     },
     "metadata": {},
     "output_type": "display_data"
    }
   ],
   "source": [
    "import pandas as pd\n",
    "\n",
    "# Create DataFrame with \"question,expected_answer\". Please update the questions and expected_answers as per the requirement.\n",
    "df = pd.DataFrame(columns=[\"question\", \"expected_answer\"],\n",
    "                  data=[\n",
    "                    [\"show total sales for Canadian Dollar for January 2013\", \"46,117.30.\"],\n",
    "                    [\"what is the product with the highest total sales for Canadian Dollar in 2013\", \"Mountain-200 Black, 42\"],\n",
    "                    [\"Total sales outside of US\", \"19968887.95\"],\n",
    "                    [\"which product category had the highest total sales for Canadian Dollar in 2013\", \"Bikes (Total Sales: 938654.76)\"]\n",
    "                ])\n",
    "\n",
    "# Load from input CSV file with data in format \"question,expected_answer\"\n",
    "# input_file_path = \"abfss://AgentEvaluation@dxt-onelake.dfs.fabric.microsoft.com/KaggleDataSetsLH.Lakehouse/Files/datasets/GeoNuclearData.csv\"\n",
    "# df = pd.read_csv(input_file_path)\n"
   ]
  },
  {
   "cell_type": "markdown",
   "id": "0a7271b2-4722-4989-888b-daa65db1a122",
   "metadata": {
    "microsoft": {
     "language": "python",
     "language_group": "jupyter_python"
    },
    "nteract": {
     "transient": {
      "deleting": false
     }
    }
   },
   "source": [
    "##### Invoke Evaluation API with input parameters"
   ]
  },
  {
   "cell_type": "code",
   "execution_count": 3,
   "id": "023e6270-6a32-4501-85d9-4f1d322c37a1",
   "metadata": {
    "microsoft": {
     "language": "python",
     "language_group": "jupyter_python"
    }
   },
   "outputs": [
    {
     "data": {
      "application/vnd.jupyter.statement-meta+json": {
       "execution_finish_time": "2025-04-22T17:00:23.3692948Z",
       "execution_start_time": "2025-04-22T16:58:22.4172332Z",
       "normalized_state": "finished",
       "parent_msg_id": "c82627e7-b4e0-4eda-9947-df1a20a2daef",
       "queued_time": "2025-04-22T16:58:20.6413672Z",
       "session_id": "f80376a6-821e-4aa7-baba-bee0668c47ec",
       "session_start_time": null
      }
     },
     "metadata": {},
     "output_type": "display_data"
    },
    {
     "name": "stderr",
     "output_type": "stream"
    },
    {
     "name": "stdout",
     "output_type": "stream",
     "text": [
      "Unique Id for the current evaluation run: 4c912348-0bab-48f8-8c60-88551b5602ae\n"
     ]
    }
   ],
   "source": [
    "from fabric.dataagent.evaluation import evaluate_data_agent\n",
    "\n",
    "# Data Agent name\n",
    "data_agent_name = \"AgentEvaluation\"\n",
    "\n",
    "# Workspace Name (Optional) if Data Agent is in different workspace\n",
    "workspace_name = None\n",
    "\n",
    "# Table name (Optional) to store the evaluation result. Default value is 'evaluation_output'\n",
    "# After evaluation there will be two tables one with provided <table_name> for evaluation output and other with <table_name>_steps for detailed steps.\n",
    "table_name = \"demo_evaluation_output_report\"\n",
    "\n",
    "# Data Agent stage ie., sandbox or production. Default to production.\n",
    "data_agent_stage = \"production\"\n",
    "\n",
    "# Evaluate the Data Agent. Returns the unique id for the evaluation run\n",
    "evaluation_id = evaluate_data_agent(df, data_agent_name, workspace_name=workspace_name, table_name=table_name, data_agent_stage=data_agent_stage)\n",
    "\n",
    "print(f\"Unique Id for the current evaluation run: {evaluation_id}\")"
   ]
  },
  {
   "cell_type": "markdown",
   "id": "f4372032-08b5-46ef-9e70-d43c79f794f3",
   "metadata": {
    "microsoft": {
     "language": "python",
     "language_group": "jupyter_python"
    },
    "nteract": {
     "transient": {
      "deleting": false
     }
    }
   },
   "source": [
    "##### Overall summary of an evaluation stored in the input table.\n",
    "Returns the DataFrame with summary details.\n",
    "\n",
    "Input Parameters:\n",
    "* table_name (Optional) : Table name which contains the evaluation result. Default value is 'evaluation_output'\n",
    "* verbose (Optional) : Flag to display the summary. Default is False."
   ]
  },
  {
   "cell_type": "code",
   "execution_count": 4,
   "id": "e6c86294-5e64-40ab-96b2-fd956d8bf1e2",
   "metadata": {
    "microsoft": {
     "language": "python",
     "language_group": "jupyter_python"
    }
   },
   "outputs": [
    {
     "data": {
      "application/vnd.jupyter.statement-meta+json": {
       "execution_finish_time": "2025-04-22T17:00:24.5796372Z",
       "execution_start_time": "2025-04-22T17:00:23.3705801Z",
       "normalized_state": "finished",
       "parent_msg_id": "e2666b3f-7802-4127-90e4-7a0b93754bcf",
       "queued_time": "2025-04-22T16:58:25.6252586Z",
       "session_id": "f80376a6-821e-4aa7-baba-bee0668c47ec",
       "session_start_time": null
      }
     },
     "metadata": {},
     "output_type": "display_data"
    },
    {
     "data": {
      "text/html": [
       "<div>\n",
       "<style scoped>\n",
       "    .dataframe tbody tr th:only-of-type {\n",
       "        vertical-align: middle;\n",
       "    }\n",
       "\n",
       "    .dataframe tbody tr th {\n",
       "        vertical-align: top;\n",
       "    }\n",
       "\n",
       "    .dataframe thead th {\n",
       "        text-align: right;\n",
       "    }\n",
       "</style>\n",
       "<table border=\"1\" class=\"dataframe\">\n",
       "  <thead>\n",
       "    <tr style=\"text-align: right;\">\n",
       "      <th>index</th>\n",
       "      <th>evaluation_id</th>\n",
       "      <th>true_count</th>\n",
       "      <th>false_count</th>\n",
       "      <th>unclear_count</th>\n",
       "      <th>true_percentage</th>\n",
       "    </tr>\n",
       "  </thead>\n",
       "  <tbody>\n",
       "    <tr>\n",
       "      <th>0</th>\n",
       "      <td>07e96796-5d86-4bcf-8201-6ec6530dc777</td>\n",
       "      <td>4</td>\n",
       "      <td>0</td>\n",
       "      <td>0</td>\n",
       "      <td>100.0</td>\n",
       "    </tr>\n",
       "    <tr>\n",
       "      <th>1</th>\n",
       "      <td>1b9ec1e9-76ef-4c10-bf9c-07c812e443bf</td>\n",
       "      <td>4</td>\n",
       "      <td>0</td>\n",
       "      <td>0</td>\n",
       "      <td>100.0</td>\n",
       "    </tr>\n",
       "    <tr>\n",
       "      <th>2</th>\n",
       "      <td>23241d1f-ad79-48ee-9949-03047352e535</td>\n",
       "      <td>4</td>\n",
       "      <td>0</td>\n",
       "      <td>0</td>\n",
       "      <td>100.0</td>\n",
       "    </tr>\n",
       "    <tr>\n",
       "      <th>3</th>\n",
       "      <td>4c912348-0bab-48f8-8c60-88551b5602ae</td>\n",
       "      <td>2</td>\n",
       "      <td>2</td>\n",
       "      <td>0</td>\n",
       "      <td>50.0</td>\n",
       "    </tr>\n",
       "    <tr>\n",
       "      <th>4</th>\n",
       "      <td>8877c875-2072-4ad7-ab84-f3691a123f0e</td>\n",
       "      <td>4</td>\n",
       "      <td>0</td>\n",
       "      <td>0</td>\n",
       "      <td>100.0</td>\n",
       "    </tr>\n",
       "    <tr>\n",
       "      <th>5</th>\n",
       "      <td>90e58846-ab16-465e-b2a0-1629e6b09986</td>\n",
       "      <td>4</td>\n",
       "      <td>0</td>\n",
       "      <td>0</td>\n",
       "      <td>100.0</td>\n",
       "    </tr>\n",
       "    <tr>\n",
       "      <th>6</th>\n",
       "      <td>d1621f67-7948-4b24-8d6b-79aa8ebf4464</td>\n",
       "      <td>3</td>\n",
       "      <td>1</td>\n",
       "      <td>0</td>\n",
       "      <td>75.0</td>\n",
       "    </tr>\n",
       "    <tr>\n",
       "      <th>7</th>\n",
       "      <td>f22fc96b-6cb0-4d87-acef-d4b2735901ba</td>\n",
       "      <td>3</td>\n",
       "      <td>1</td>\n",
       "      <td>0</td>\n",
       "      <td>75.0</td>\n",
       "    </tr>\n",
       "  </tbody>\n",
       "</table>\n",
       "</div>"
      ],
      "text/plain": [
       "index                         evaluation_id  true_count  false_count  \\\n",
       "0      07e96796-5d86-4bcf-8201-6ec6530dc777           4            0   \n",
       "1      1b9ec1e9-76ef-4c10-bf9c-07c812e443bf           4            0   \n",
       "2      23241d1f-ad79-48ee-9949-03047352e535           4            0   \n",
       "3      4c912348-0bab-48f8-8c60-88551b5602ae           2            2   \n",
       "4      8877c875-2072-4ad7-ab84-f3691a123f0e           4            0   \n",
       "5      90e58846-ab16-465e-b2a0-1629e6b09986           4            0   \n",
       "6      d1621f67-7948-4b24-8d6b-79aa8ebf4464           3            1   \n",
       "7      f22fc96b-6cb0-4d87-acef-d4b2735901ba           3            1   \n",
       "\n",
       "index  unclear_count  true_percentage  \n",
       "0                  0            100.0  \n",
       "1                  0            100.0  \n",
       "2                  0            100.0  \n",
       "3                  0             50.0  \n",
       "4                  0            100.0  \n",
       "5                  0            100.0  \n",
       "6                  0             75.0  \n",
       "7                  0             75.0  "
      ]
     },
     "execution_count": 6,
     "metadata": {},
     "output_type": "execute_result"
    }
   ],
   "source": [
    "from fabric.dataagent.evaluation import get_evaluation_summary\n",
    "\n",
    "# Table name (Optional) to store the evaluation result. Default value is 'evaluation_output'\n",
    "# After evaluation there will be two tables one with provided <table_name> for evaluation output and other with <table_name>_steps for detailed steps.\n",
    "table_name = \"demo_evaluation_output_report\"\n",
    "\n",
    "get_evaluation_summary(table_name)"
   ]
  },
  {
   "cell_type": "markdown",
   "id": "09d70a78-984c-4247-895b-572d27772eff",
   "metadata": {
    "microsoft": {
     "language": "python",
     "language_group": "jupyter_python"
    },
    "nteract": {
     "transient": {
      "deleting": false
     }
    }
   },
   "source": [
    "##### Evaluation details of a single run\n",
    "Returns the DataFrame with evaluation details.\n",
    "\n",
    "Input Parameters:\n",
    "* evaluation_id : Unique Id for an evaluation run.\n",
    "* table_name (Optional) : Table name which contains the evaluation result. Default value is 'evaluation_output'.\n",
    "* get_all_rows (Optional) : Flag to get all the rows for an evaluation. Default value is False, which returns only failed evaluation rows.\n",
    "* Verbose (Optional) : Flag to display the summary. Default is False.\n",
    "\n",
    "**Note**: The thread url in the evaluation details is only accessible by person who ran the evaluation."
   ]
  },
  {
   "cell_type": "code",
   "execution_count": 6,
   "id": "5319df98-bb8c-4382-8dd7-678c5f6f8b13",
   "metadata": {
    "microsoft": {
     "language": "python",
     "language_group": "jupyter_python"
    }
   },
   "outputs": [
    {
     "data": {
      "application/vnd.jupyter.statement-meta+json": {
       "execution_finish_time": "2025-04-22T17:01:51.4096433Z",
       "execution_start_time": "2025-04-22T17:01:50.0894456Z",
       "normalized_state": "finished",
       "parent_msg_id": "c0914455-79cc-4f88-943c-34694cc34d0c",
       "queued_time": "2025-04-22T17:01:50.0883951Z",
       "session_id": "f80376a6-821e-4aa7-baba-bee0668c47ec",
       "session_start_time": null
      }
     },
     "metadata": {},
     "output_type": "display_data"
    },
    {
     "data": {
      "text/html": [
       "<table border=\"1\" class=\"dataframe\">\n",
       "  <thead>\n",
       "    <tr style=\"text-align: right;\">\n",
       "      <th><div style=\"text-align: center !important;\">question</div></th>\n",
       "      <th><div style=\"text-align: center !important;\">expected_answer</div></th>\n",
       "      <th><div style=\"text-align: center !important;\">evaluation_judgement</div></th>\n",
       "      <th><div style=\"text-align: center !important;\">actual_answer</div></th>\n",
       "      <th><div style=\"text-align: center !important;\">thread_url</div></th>\n",
       "    </tr>\n",
       "  </thead>\n",
       "  <tbody>\n",
       "    <tr>\n",
       "      <td><div style=\"text-align: left !important;\">which product category had the highest total sales for Canadian Dollar in 2013</div></td>\n",
       "      <td><div style=\"text-align: left !important;\">Bikes (Total Sales: 938654.76)</div></td>\n",
       "      <td><div style=\"text-align: left !important;\">False</div></td>\n",
       "      <td><div style=\"text-align: left !important;\"><pre>The highest total sales for Canadian Dollar in 2013 was 1,085,560 CAD. However, the specific product category associated with these sales is not provided. Please let me know if you have any other questions!</pre></div></td>\n",
       "      <td><div style=\"text-align: left !important;\"><a href=\"https://dxt.fabric.microsoft.com/workloads/de-ds/dataagents/9ba9cbba-a58a-4b0c-bab5-305d9daaaf26/externalThread?debug.aiSkillThreadIdOverride=thread_L9SnU43n7HhfqT72RIOPE5CH&debug.aiSkillViewPublishedOverride=0\" target=\"_blank\">thread_L9SnU43n7HhfqT72RIOPE5CH</a></div></td>\n",
       "    </tr>\n",
       "  </tbody>\n",
       "</table>"
      ],
      "text/plain": [
       "<IPython.core.display.HTML object>"
      ]
     },
     "metadata": {},
     "output_type": "display_data"
    }
   ],
   "source": [
    "from fabric.dataagent.evaluation import get_evaluation_details\n",
    "\n",
    "# Unique Id for an evaluation run\n",
    "evaluation_id = 'd1621f67-7948-4b24-8d6b-79aa8ebf4464'\n",
    "# Evaluation output table name\n",
    "table_name = \"demo_evaluation_output_report\"\n",
    "# Flag to get all the rows for an evaluation. Default value is False, which returns only failed evaluation rows.\n",
    "get_all_rows = False\n",
    "# Flag to display the summary. Default is False.\n",
    "verbose = True\n",
    "\n",
    "eval_details = get_evaluation_details(evaluation_id, table_name, get_all_rows=get_all_rows, verbose=verbose)"
   ]
  },
  {
   "cell_type": "markdown",
   "id": "27d2f33c-7637-4dce-9989-b44004dc90b8",
   "metadata": {
    "microsoft": {
     "language": "python",
     "language_group": "jupyter_python"
    },
    "nteract": {
     "transient": {
      "deleting": false
     }
    }
   },
   "source": [
    "### Advanced Options"
   ]
  },
  {
   "cell_type": "markdown",
   "id": "11247b85-5475-4662-a693-50f9a04b616a",
   "metadata": {
    "microsoft": {
     "language": "python",
     "language_group": "jupyter_python"
    },
    "nteract": {
     "transient": {
      "deleting": false
     }
    }
   },
   "source": [
    "##### Use customized prompt for evaluation\n",
    "* critic_prompt (Optional): Prompt (Optional) to evaluate the actual answer from Data Agent. \n",
    "  * Please use the variables **query, expected_answer and actual_answer** as placeholders."
   ]
  },
  {
   "cell_type": "code",
   "execution_count": 8,
   "id": "7c1000c4-b24b-4fbb-9fb6-4bfc01c1ec3f",
   "metadata": {
    "microsoft": {
     "language": "python",
     "language_group": "jupyter_python"
    }
   },
   "outputs": [
    {
     "data": {
      "application/vnd.jupyter.statement-meta+json": {
       "execution_finish_time": "2025-04-09T15:43:53.267936Z",
       "execution_start_time": "2025-04-09T15:41:57.4630469Z",
       "normalized_state": "finished",
       "parent_msg_id": "f594e2cc-4e90-45e4-a769-dff06537a0be",
       "queued_time": "2025-04-09T15:41:57.4619268Z",
       "session_id": "ba65d5cc-1331-492b-8a6a-2845e0e19e18",
       "session_start_time": null
      }
     },
     "metadata": {},
     "output_type": "display_data"
    },
    {
     "name": "stderr",
     "output_type": "stream"
    }
   ],
   "source": [
    "from fabric.dataagent.evaluation import evaluate_data_agent\n",
    "\n",
    "# Prompt (Optional) to evaluate the actual response. Please use the varaibles query, expected_answer and actual_answer as placeholders\n",
    "critic_prompt = \"\"\"\n",
    "        Given the following query, expected answer, and actual answer, please determine if the actual answer is equivalent to expected answer. If they are equivalent, respond with 'yes'.\n",
    "\n",
    "        Query: {query}\n",
    "\n",
    "        Expected Answer:\n",
    "        {expected_answer}\n",
    "\n",
    "        Actual Answer:\n",
    "        {actual_answer}\n",
    "\n",
    "        Is the actual answer equivalent to the expected answer?\n",
    "        \"\"\"\n",
    "\n",
    "# Data Agent name\n",
    "data_agent_name = \"AgentEvaluation\"\n",
    "\n",
    "# Evaluate the Data Agent. Returns the unique id for the evaluation run\n",
    "evaluation_id = evaluate_data_agent(df, data_agent_name, critic_prompt=critic_prompt)"
   ]
  },
  {
   "cell_type": "code",
   "execution_count": 11,
   "id": "00f4d000-753a-4467-8b58-3dc8dde10a08",
   "metadata": {
    "microsoft": {
     "language": "python",
     "language_group": "jupyter_python"
    }
   },
   "outputs": [
    {
     "data": {
      "application/vnd.jupyter.statement-meta+json": {
       "execution_finish_time": "2025-04-09T15:44:41.0692693Z",
       "execution_start_time": "2025-04-09T15:44:39.8674279Z",
       "normalized_state": "finished",
       "parent_msg_id": "15200cfa-a705-404d-b6c1-a44931e7a4e0",
       "queued_time": "2025-04-09T15:44:39.8664064Z",
       "session_id": "ba65d5cc-1331-492b-8a6a-2845e0e19e18",
       "session_start_time": null
      }
     },
     "metadata": {},
     "output_type": "display_data"
    },
    {
     "data": {
      "text/html": [
       "<table border=\"1\" class=\"dataframe\">\n",
       "  <thead>\n",
       "    <tr style=\"text-align: right;\">\n",
       "      <th><div style=\"text-align: center !important;\">question</div></th>\n",
       "      <th><div style=\"text-align: center !important;\">expected_answer</div></th>\n",
       "      <th><div style=\"text-align: center !important;\">evaluation_judgement</div></th>\n",
       "      <th><div style=\"text-align: center !important;\">actual_answer</div></th>\n",
       "      <th><div style=\"text-align: center !important;\">thread_url</div></th>\n",
       "    </tr>\n",
       "  </thead>\n",
       "  <tbody>\n",
       "    <tr>\n",
       "      <td><div style=\"text-align: left !important;\">Total sales outside of US</div></td>\n",
       "      <td><div style=\"text-align: left !important;\">19968887.95</div></td>\n",
       "      <td><div style=\"text-align: left !important;\">False</div></td>\n",
       "      <td><div style=\"text-align: left !important;\"><pre>The total sales outside of the US amount to approximately 1,001,630,000.<br><br>The query used to obtain this information is:<br><br>```sql<br>SELECT SUM(fs.SalesAmount) AS TotalSalesOutsideUS<br>FROM FactInternetSales fs<br>JOIN DimSalesTerritory dst ON fs.SalesTerritoryKey = dst.SalesTerritoryKey<br>JOIN DimGeography dg ON dst.SalesTerritoryCountry = dg.EnglishCountryRegionName<br>WHERE dg.EnglishCountryRegionName <> 'United States'<br>```</pre></div></td>\n",
       "      <td><div style=\"text-align: left !important;\"><a href=\"https://dxt.fabric.microsoft.com/workloads/de-ds/aiskills/9ba9cbba-a58a-4b0c-bab5-305d9daaaf26/externalThread?debug.aiSkillThreadIdOverride=thread_h4Hdx5Mt44L0gZrG9YKRco4p&debug.aiSkillViewPublishedOverride=0\" target=\"_blank\">thread_h4Hdx5Mt44L0gZrG9YKRco4p</a></div></td>\n",
       "    </tr>\n",
       "  </tbody>\n",
       "</table>"
      ],
      "text/plain": [
       "<IPython.core.display.HTML object>"
      ]
     },
     "metadata": {},
     "output_type": "display_data"
    }
   ],
   "source": [
    "from fabric.dataagent.evaluation import get_evaluation_details\n",
    "\n",
    "# Unique Id for an evaluation run\n",
    "evaluation_id = '4e725e05-5b72-493f-b849-d8787decc188'\n",
    "# Evaluation output table name\n",
    "table_name = \"evaluation_output\"\n",
    "# Flag to get all the rows for an evaluation. Default value is False, which returns only failed evaluation rows.\n",
    "get_all_rows = False\n",
    "# Flag to display the summary. Default is False.\n",
    "verbose = True\n",
    "\n",
    "eval_details = get_evaluation_details(evaluation_id, table_name, get_all_rows=get_all_rows, verbose=verbose)"
   ]
  }
 ],
 "metadata": {
  "a365ComputeOptions": null,
  "dependencies": {
   "lakehouse": {
    "default_lakehouse": "40957e0d-5221-4ada-857f-4dd6bbedd539",
    "default_lakehouse_name": "EvaluationDemoLH",
    "default_lakehouse_workspace_id": "3515fff7-6395-4b60-a5ba-52977e32f9c6",
    "known_lakehouses": [
     {
      "id": "40957e0d-5221-4ada-857f-4dd6bbedd539"
     }
    ]
   }
  },
  "kernel_info": {
   "jupyter_kernel_name": "python3.11",
   "name": "jupyter"
  },
  "kernelspec": {
   "display_name": "Python 3 (ipykernel)",
   "language": "python",
   "name": "python3"
  },
  "language_info": {
   "codemirror_mode": {
    "name": "ipython",
    "version": 3
   },
   "file_extension": ".py",
   "mimetype": "text/x-python",
   "name": "python",
   "nbconvert_exporter": "python",
   "pygments_lexer": "ipython3",
   "version": "3.10.11"
  },
  "microsoft": {
   "language": "python",
   "language_group": "jupyter_python",
   "ms_spell_check": {
    "ms_spell_check_language": "en"
   }
  },
  "nteract": {
   "version": "nteract-front-end@1.0.0"
  },
  "sessionKeepAliveTimeout": 0,
  "spark_compute": {
   "compute_id": "/trident/default",
   "session_options": {
    "conf": {
     "spark.synapse.nbs.session.timeout": "1200000"
    }
   }
  },
  "widgets": {}
 },
 "nbformat": 4,
 "nbformat_minor": 5
}
